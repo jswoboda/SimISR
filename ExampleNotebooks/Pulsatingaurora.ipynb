{
 "cells": [
  {
   "cell_type": "markdown",
   "metadata": {},
   "source": [
    "# Pulsating Aurora\n",
    "\n",
    "This notebook will run the ISR simulator with plasma state parameters that occur during pulsating aurora.  "
   ]
  },
  {
   "cell_type": "markdown",
   "metadata": {},
   "source": [
    "## Import Stuff\n",
    "\n",
    "Mainly import matplotlib, scipy and other packages for processing and plotting. Along with functions from the SimISR module."
   ]
  },
  {
   "cell_type": "code",
   "execution_count": 4,
   "metadata": {},
   "outputs": [],
   "source": [
    "%matplotlib inline\n",
    "import matplotlib.pyplot as plt\n",
    "import scipy as sp\n",
    "import seaborn as sns\n",
    "#SimISR packages\n",
    "from SimISR import Path\n",
    "from SimISR.utilFunctions import readconfigfile,makeconfigfile\n",
    "from SimISR.runsim import main as runsim \n",
    "from SimISR.IonoContainer import IonoContainer,MakeTestIonoclass\n",
    "from SimISR.analysisplots import analysisdump"
   ]
  },
  {
   "cell_type": "markdown",
   "metadata": {},
   "source": [
    "## Input Parameter Set Up\n",
    "\n",
    "The following cell will set up the pulsating aurora input plasma parameters. The model of the parameters will be Ne(1+ehn_lev*sin(2*pi*t/PT))"
   ]
  },
  {
   "cell_type": "code",
   "execution_count": 2,
   "metadata": {
    "collapsed": true
   },
   "outputs": [],
   "source": [
    "# Pulsating aurora parameters\n",
    "PT=30.# the period of pulsation in seconds.\n",
    "ehn_lev=2. # level of enhancement.\n",
    "pa_range=[250.,300.]# range of pulsation along altitude in km\n",
    "\n",
    "# set up the time and space vectors\n",
    "dt=1.\n",
    "timevec=sp.arange(120.)*dt\n",
    "timemat=sp.column_stack((timevec,(timevec/dt+1)*dt))\n",
    "z = (50.+sp.arange(120)*5.)\n",
    "nz = len(z)\n",
    "coords = sp.column_stack((sp.zeros((nz,2)),z))\n",
    "# Create the weighting for the pulsation\n",
    "logar=sp.logical_and((z>=pa_range[0]),(z<pa_range[1]))\n",
    "PA_weight=1+.5*(ehn_lev-1)*(1-sp.cos(2.*sp.pi*timevec/PT))\n",
    "PA_weight_rep = sp.tile(PA_weight[sp.newaxis,:],[logar.sum(),1])\n",
    "\n",
    "# Make a set of input parameters with a electron density modeled by a Chapman function and an electron and ion temperature\n",
    "# modeled as shifted and scalled atan functions.\n",
    "Icont1=MakeTestIonoclass(testv=False,testtemp=True,N_0=1e11,z_0=250.0,H_0=50.0,coords=coords,times=timemat)\n",
    "# Apply windowing to the electron density \n",
    "Icont1.Param_List[logar,:,-1,0]=PA_weight_rep*Icont1.Param_List[logar,:,-1,0]\n",
    "\n",
    "# Create the starting point data for the fitter.\n",
    "Icontstart = MakeTestIonoclass(testv=False,testtemp=False,N_0=1e11,z_0=250.0,H_0=50.0,\n",
    "                               coords=coords,times =sp.array([[0,1e6]]))"
   ]
  },
  {
   "cell_type": "markdown",
   "metadata": {},
   "source": [
    "## Set up for Simulation\n",
    "\n",
    "Set up parameters for simulation like pulse length, pulse type, beam positions, etc. Also create a file structure to save the data at the different levels."
   ]
  },
  {
   "cell_type": "code",
   "execution_count": 7,
   "metadata": {},
   "outputs": [],
   "source": [
    "# Make file tree if not already inplace.\n",
    "curloc = Path.cwd()\n",
    "testpath = curloc.parent.joinpath('Testdata','PulsatingNotebook')\n",
    "testpath.mkdir(exist_ok=True,parents=True)\n",
    "# Read in default config file.\n",
    "defaultpath = curloc.parent.joinpath('Test')\n",
    "defcon = defaultpath.joinpath('statsbase.ini')\n",
    "(sensdict,simparams) = readconfigfile(str(defcon))\n",
    "\n",
    "# Adjust config file for specific case.\n",
    "simparams['Beamlist']=[64016.0]\n",
    "tint = 10.\n",
    "ratio1 = tint/simparams['Tint']\n",
    "simparams['Tint']=ratio1 * simparams['Tint']\n",
    "simparams['Fitinter'] = ratio1 * simparams['Fitinter']\n",
    "simparams['TimeLim'] = tint+timevec[-1]\n",
    "# Save configuration file.\n",
    "simparams['startfile']='startfile.h5'\n",
    "makeconfigfile(str(testpath.joinpath('stats.ini')),simparams['Beamlist'],sensdict['Name'],simparams)\n",
    "# Save out input plasma parameters\n",
    "finalpath = testpath.joinpath('Origparams')\n",
    "finalpath.mkdir(exist_ok=True,parents=True)\n",
    "finalfile = finalpath.joinpath('0 stats.h5')\n",
    "Icont1.saveh5(str(finalfile))\n",
    "Icontstart.saveh5(str(testpath.joinpath('startfile.h5')))"
   ]
  },
  {
   "cell_type": "markdown",
   "metadata": {
    "collapsed": true
   },
   "source": [
    "## Run SimISR"
   ]
  },
  {
   "cell_type": "code",
   "execution_count": 11,
   "metadata": {},
   "outputs": [
    {
     "name": "stdout",
     "output_type": "stream",
     "text": [
      "Processing file 0 stats.h5 starting at 2017-01-20 17:59:14.339719\n",
      "\n"
     ]
    },
    {
     "name": "stderr",
     "output_type": "stream",
     "text": [
      "/Users/Bodangles/Documents/Python/SimISR/SimISR/specfunctions.py:39: VisibleDeprecationWarning: using a non-integer number instead of an integer will result in an error in the future\n",
      "  outspecs = sp.zeros((N_x,N_t,npts))\n"
     ]
    },
    {
     "name": "stdout",
     "output_type": "stream",
     "text": [
      "Finished file 0 stats.h5 starting at 2017-01-20 17:59:59.854863\n",
      "\n",
      "All spectrums created already\n",
      "\n",
      "Data Now being created.\n",
      "\tData from 0 of 1 being processed Name: 0.0 spectrum.h5.\n"
     ]
    },
    {
     "name": "stderr",
     "output_type": "stream",
     "text": [
      "/Users/Bodangles/anaconda/lib/python2.7/site-packages/numpy/lib/shape_base.py:873: VisibleDeprecationWarning: using a non-integer number instead of an integer will result in an error in the future\n",
      "  return c.reshape(shape_out)\n"
     ]
    },
    {
     "name": "stdout",
     "output_type": "stream",
     "text": [
      "\t\t Making Beam 0 of 1\n",
      "\t\t Making Beam 0 of 1\n",
      "\t\t Making Beam 0 of 1\n",
      "\t\t Making Beam 0 of 1\n",
      "\t\t Making Beam 0 of 1\n",
      "\t\t Making Beam 0 of 1\n",
      "\t\t Making Beam 0 of 1\n",
      "\t\t Making Beam 0 of 1\n",
      "\t\t Making Beam 0 of 1\n",
      "\t\t Making Beam 0 of 1\n",
      "\t\t Making Beam 0 of 1\n",
      "\t\t Making Beam 0 of 1\n",
      "\t\t Making Beam 0 of 1\n",
      "\t\t Making Beam 0 of 1\n",
      "\t\t Making Beam 0 of 1\n",
      "\t\t Making Beam 0 of 1\n",
      "\t\t Making Beam 0 of 1\n",
      "\t\t Making Beam 0 of 1\n",
      "\t\t Making Beam 0 of 1\n",
      "\t\t Making Beam 0 of 1\n",
      "\t\t Making Beam 0 of 1\n",
      "\t\t Making Beam 0 of 1\n",
      "\t\t Making Beam 0 of 1\n",
      "\t\t Making Beam 0 of 1\n",
      "\t\t Making Beam 0 of 1\n",
      "\t\t Making Beam 0 of 1\n",
      "\t\t Making Beam 0 of 1\n",
      "\t\t Making Beam 0 of 1\n",
      "\t\t Making Beam 0 of 1\n",
      "\t\t Making Beam 0 of 1\n",
      "\t\t Making Beam 0 of 1\n",
      "\t\t Making Beam 0 of 1\n",
      "\t\t Making Beam 0 of 1\n",
      "\t\t Making Beam 0 of 1\n",
      "\t\t Making Beam 0 of 1\n",
      "\t\t Making Beam 0 of 1\n",
      "\t\t Making Beam 0 of 1\n",
      "\t\t Making Beam 0 of 1\n",
      "\t\t Making Beam 0 of 1\n",
      "\t\t Making Beam 0 of 1\n",
      "\t\t Making Beam 0 of 1\n",
      "\t\t Making Beam 0 of 1\n",
      "\t\t Making Beam 0 of 1\n",
      "\t\t Making Beam 0 of 1\n",
      "\t\t Making Beam 0 of 1\n",
      "\t\t Making Beam 0 of 1\n",
      "\t\t Making Beam 0 of 1\n",
      "\t\t Making Beam 0 of 1\n",
      "\t\t Making Beam 0 of 1\n",
      "\t\t Making Beam 0 of 1\n",
      "\t\t Making Beam 0 of 1\n",
      "\t\t Making Beam 0 of 1\n",
      "\t\t Making Beam 0 of 1\n",
      "\t\t Making Beam 0 of 1\n",
      "\t\t Making Beam 0 of 1\n",
      "\t\t Making Beam 0 of 1\n",
      "\t\t Making Beam 0 of 1\n",
      "\t\t Making Beam 0 of 1\n",
      "\t\t Making Beam 0 of 1\n",
      "\t\t Making Beam 0 of 1\n",
      "\t\t Making Beam 0 of 1\n",
      "\t\t Making Beam 0 of 1\n",
      "\t\t Making Beam 0 of 1\n",
      "\t\t Making Beam 0 of 1\n",
      "\t\t Making Beam 0 of 1\n",
      "\t\t Making Beam 0 of 1\n",
      "\t\t Making Beam 0 of 1\n",
      "\t\t Making Beam 0 of 1\n",
      "\t\t Making Beam 0 of 1\n",
      "\t\t Making Beam 0 of 1\n",
      "\t\t Making Beam 0 of 1\n",
      "\t\t Making Beam 0 of 1\n",
      "\t\t Making Beam 0 of 1\n",
      "\t\t Making Beam 0 of 1\n",
      "\t\t Making Beam 0 of 1\n",
      "\t\t Making Beam 0 of 1\n",
      "\t\t Making Beam 0 of 1\n",
      "\t\t Making Beam 0 of 1\n",
      "\t\t Making Beam 0 of 1\n",
      "\t\t Making Beam 0 of 1\n",
      "\t\t Making Beam 0 of 1\n",
      "\t\t Making Beam 0 of 1\n",
      "\t\t Making Beam 0 of 1\n",
      "\t\t Making Beam 0 of 1\n",
      "\t\t Making Beam 0 of 1\n",
      "\t\t Making Beam 0 of 1\n",
      "\t\t Making Beam 0 of 1\n",
      "\t\t Making Beam 0 of 1\n",
      "\t\t Making Beam 0 of 1\n",
      "\t\t Making Beam 0 of 1\n",
      "\t\t Making Beam 0 of 1\n",
      "\t\t Making Beam 0 of 1\n",
      "\t\t Making Beam 0 of 1\n",
      "\t\t Making Beam 0 of 1\n",
      "\t\t Making Beam 0 of 1\n",
      "\t\t Making Beam 0 of 1\n",
      "\t\t Making Beam 0 of 1\n",
      "\t\t Making Beam 0 of 1\n",
      "\t\t Making Beam 0 of 1\n",
      "\t\t Making Beam 0 of 1\n",
      "\t\t Making Beam 0 of 1\n",
      "\t\t Making Beam 0 of 1\n",
      "\t\t Making Beam 0 of 1\n",
      "\t\t Making Beam 0 of 1\n",
      "\t\t Making Beam 0 of 1\n",
      "\t\t Making Beam 0 of 1\n",
      "\t\t Making Beam 0 of 1\n",
      "\t\t Making Beam 0 of 1\n",
      "\t\t Making Beam 0 of 1\n",
      "\t\t Making Beam 0 of 1\n",
      "\t\t Making Beam 0 of 1\n",
      "\t\t Making Beam 0 of 1\n",
      "\t\t Making Beam 0 of 1\n",
      "\t\t Making Beam 0 of 1\n",
      "\t\t Making Beam 0 of 1\n",
      "\t\t Making Beam 0 of 1\n",
      "\t\t Making Beam 0 of 1\n",
      "\t\t Making Beam 0 of 1\n",
      "\t\t Making Beam 0 of 1\n",
      "\t\t Making Beam 0 of 1\n",
      "Forming ACF estimates\n",
      "\tTime 0 of 13\n",
      "\t\tBeam 0 of 0\n",
      "\tTime 1 of 13\n",
      "\t\tBeam 0 of 0\n",
      "\tTime 2 of 13\n",
      "\t\tBeam 0 of 0\n",
      "\tTime 3 of 13\n",
      "\t\tBeam 0 of 0\n",
      "\tTime 4 of 13\n",
      "\t\tBeam 0 of 0\n",
      "\tTime 5 of 13\n",
      "\t\tBeam 0 of 0\n",
      "\tTime 6 of 13\n",
      "\t\tBeam 0 of 0\n",
      "\tTime 7 of 13\n",
      "\t\tBeam 0 of 0\n",
      "\tTime 8 of 13\n",
      "\t\tBeam 0 of 0\n",
      "\tTime 9 of 13\n",
      "\t\tBeam 0 of 0\n",
      "\tTime 10 of 13\n",
      "\t\tBeam 0 of 0\n",
      "\tTime 11 of 13\n",
      "\t\tBeam 0 of 0\n",
      "\tTime 12 of 13\n",
      "\t\tBeam 0 of 0\n",
      "\n",
      "Data Now being fit.\n"
     ]
    },
    {
     "name": "stderr",
     "output_type": "stream",
     "text": [
      "/Users/Bodangles/Documents/Python/SimISR/SimISR/specfunctions.py:135: RuntimeWarning: overflow encountered in exp\n",
      "  grt0 = sp.exp(-datablock)\n",
      "/Users/Bodangles/Documents/Python/ISRSpectrum/ISRSpectrum/ISRSpectrum.py:394: ComplexWarning: Casting complex values to real discards the imaginary part\n",
      "  nuperp[-1] = nuei +nuee\n",
      "/Users/Bodangles/Documents/Python/ISRSpectrum/ISRSpectrum/ISRSpectrum.py:395: ComplexWarning: Casting complex values to real discards the imaginary part\n",
      "  nuparr[-1] = nuei\n",
      "/Users/Bodangles/Documents/Python/ISRSpectrum/ISRSpectrum/ISRSpectrum.py:399: ComplexWarning: Casting complex values to real discards the imaginary part\n",
      "  nuparr[si]=nuparr[si]+Bst[s][t]*Ni[ti]/sp.power(Ti[ti],1.5)\n",
      "/Users/Bodangles/Documents/Python/ISRSpectrum/ISRSpectrum/ISRSpectrum.py:247: RuntimeWarning: overflow encountered in exp\n",
      "  gord = (sp.sqrt(sp.pi)*sp.exp(-theta**2)-1j*2.0*scipy.special.dawsn(theta))/(K*C*sp.sqrt(2))\n",
      "/Users/Bodangles/Documents/Python/ISRSpectrum/ISRSpectrum/ISRSpectrum.py:247: RuntimeWarning: invalid value encountered in multiply\n",
      "  gord = (sp.sqrt(sp.pi)*sp.exp(-theta**2)-1j*2.0*scipy.special.dawsn(theta))/(K*C*sp.sqrt(2))\n",
      "/Users/Bodangles/Documents/Python/ISRSpectrum/ISRSpectrum/ISRSpectrum.py:247: RuntimeWarning: invalid value encountered in divide\n",
      "  gord = (sp.sqrt(sp.pi)*sp.exp(-theta**2)-1j*2.0*scipy.special.dawsn(theta))/(K*C*sp.sqrt(2))\n",
      "/Users/Bodangles/anaconda/lib/python2.7/site-packages/numpy/lib/scimath.py:120: RuntimeWarning: invalid value encountered in less\n",
      "  if any(isreal(x) & (x < 0)):\n",
      "/Users/Bodangles/Documents/Python/SimISR/SimISR/specfunctions.py:151: RuntimeWarning: invalid value encountered in divide\n",
      "  guess_acf = guess_acf*rcs/guess_acf[0].real\n",
      "/Users/Bodangles/Documents/Python/ISRSpectrum/ISRSpectrum/ISRSpectrum.py:247: RuntimeWarning: invalid value encountered in subtract\n",
      "  gord = (sp.sqrt(sp.pi)*sp.exp(-theta**2)-1j*2.0*scipy.special.dawsn(theta))/(K*C*sp.sqrt(2))\n",
      "/Users/Bodangles/Documents/Python/ISRSpectrum/ISRSpectrum/ISRSpectrum.py:150: RuntimeWarning: overflow encountered in square\n",
      "  enum = sp.absolute(1j+sig_sum)**2*nte\n",
      "/Users/Bodangles/Documents/Python/ISRSpectrum/ISRSpectrum/ISRSpectrum.py:150: RuntimeWarning: invalid value encountered in multiply\n",
      "  enum = sp.absolute(1j+sig_sum)**2*nte\n",
      "/Users/Bodangles/Documents/Python/ISRSpectrum/ISRSpectrum/ISRSpectrum.py:151: RuntimeWarning: overflow encountered in square\n",
      "  den = sp.absolute(1j + sig_sum +sig_e)**2\n",
      "/Users/Bodangles/Documents/Python/ISRSpectrum/ISRSpectrum/ISRSpectrum.py:153: RuntimeWarning: invalid value encountered in divide\n",
      "  eline = enum/den\n",
      "/Users/Bodangles/Documents/Python/ISRSpectrum/ISRSpectrum/ISRSpectrum.py:247: RuntimeWarning: overflow encountered in multiply\n",
      "  gord = (sp.sqrt(sp.pi)*sp.exp(-theta**2)-1j*2.0*scipy.special.dawsn(theta))/(K*C*sp.sqrt(2))\n",
      "/Users/Bodangles/Documents/Python/ISRSpectrum/ISRSpectrum/ISRSpectrum.py:138: RuntimeWarning: invalid value encountered in multiply\n",
      "  sig_i = (Ni/Ne)*(1j+omeg_i*igord)/(self.K**2*mu*h_e**2/qrot**2)\n",
      "/Users/Bodangles/Documents/Python/ISRSpectrum/ISRSpectrum/ISRSpectrum.py:150: RuntimeWarning: overflow encountered in multiply\n",
      "  enum = sp.absolute(1j+sig_sum)**2*nte\n",
      "/Users/Bodangles/Documents/Python/ISRSpectrum/ISRSpectrum/ISRSpectrum.py:138: RuntimeWarning: overflow encountered in multiply\n",
      "  sig_i = (Ni/Ne)*(1j+omeg_i*igord)/(self.K**2*mu*h_e**2/qrot**2)\n",
      "/Users/Bodangles/Documents/Python/ISRSpectrum/ISRSpectrum/ISRSpectrum.py:138: RuntimeWarning: invalid value encountered in divide\n",
      "  sig_i = (Ni/Ne)*(1j+omeg_i*igord)/(self.K**2*mu*h_e**2/qrot**2)\n",
      "/Users/Bodangles/Documents/Python/ISRSpectrum/ISRSpectrum/ISRSpectrum.py:247: RuntimeWarning: overflow encountered in subtract\n",
      "  gord = (sp.sqrt(sp.pi)*sp.exp(-theta**2)-1j*2.0*scipy.special.dawsn(theta))/(K*C*sp.sqrt(2))\n"
     ]
    },
    {
     "name": "stdout",
     "output_type": "stream",
     "text": [
      "\t\tData for Location 155 of 156 fitted.\n"
     ]
    },
    {
     "name": "stderr",
     "output_type": "stream",
     "text": [
      "/Users/Bodangles/Documents/Python/SimISR/SimISR/specfunctions.py:172: RuntimeWarning: overflow encountered in double_scalars\n",
      "  penadd = sp.sqrt(sp.power(sp.absolute(yout),2).sum())*pentsum.sum()\n",
      "/Users/Bodangles/Documents/Python/ISRSpectrum/ISRSpectrum/ISRSpectrum.py:138: RuntimeWarning: overflow encountered in divide\n",
      "  sig_i = (Ni/Ne)*(1j+omeg_i*igord)/(self.K**2*mu*h_e**2/qrot**2)\n"
     ]
    },
    {
     "name": "stdout",
     "output_type": "stream",
     "text": [
      "\t\tData for Location 155 of 156 fitted.\n"
     ]
    },
    {
     "name": "stderr",
     "output_type": "stream",
     "text": [
      "/Users/Bodangles/Documents/Python/SimISR/SimISR/specfunctions.py:151: RuntimeWarning: overflow encountered in divide\n",
      "  guess_acf = guess_acf*rcs/guess_acf[0].real\n",
      "/Users/Bodangles/Documents/Python/SimISR/SimISR/utilFunctions.py:121: RuntimeWarning: invalid value encountered in divide\n",
      "  acf = acf/n\n"
     ]
    },
    {
     "name": "stdout",
     "output_type": "stream",
     "text": [
      "\t\tData for Location 155 of 156 fitted.\n",
      "\t\tData for Location 155 of 156 fitted.\n"
     ]
    },
    {
     "name": "stderr",
     "output_type": "stream",
     "text": [
      "/Users/Bodangles/Documents/Python/ISRSpectrum/ISRSpectrum/ISRSpectrum.py:149: RuntimeWarning: overflow encountered in square\n",
      "  inum = sp.absolute(sig_e)**2*nt_sum\n"
     ]
    },
    {
     "name": "stdout",
     "output_type": "stream",
     "text": [
      "\t\tData for Location 155 of 156 fitted.\n",
      "\t\tData for Location 155 of 156 fitted.\n",
      "\t\tData for Location 155 of 156 fitted.\n",
      "\t\tData for Location 155 of 156 fitted.\n",
      "\t\tData for Location 155 of 156 fitted.\n",
      "\t\tData for Location 155 of 156 fitted.\n",
      "\t\tData for Location 155 of 156 fitted.\n",
      "\t\tData for Location 155 of 156 fitted.\n",
      "\t\tData for Location 155 of 156 fitted.\n"
     ]
    },
    {
     "data": {
      "text/plain": [
       "False"
      ]
     },
     "execution_count": 11,
     "metadata": {},
     "output_type": "execute_result"
    }
   ],
   "source": [
    "functlist = ['spectrums','radardata','fitting']\n",
    "\n",
    "config = str(testpath.joinpath('stats.ini'))\n",
    "\n",
    "runsim(functlist,testpath,config,True,printlines=False)"
   ]
  },
  {
   "cell_type": "code",
   "execution_count": 25,
   "metadata": {},
   "outputs": [
    {
     "data": {
      "image/png": "[encoded data removed]",
      "text/plain": [
       "<matplotlib.figure.Figure at 0x11f97dc50>"
      ]
     },
     "metadata": {},
     "output_type": "display_data"
    }
   ],
   "source": [
    "sns.set_style(\"whitegrid\")\n",
    "sns.set_context(\"notebook\")\n",
    "fig1,axmat =plt.subplots(2,3,figsize = (16,7),sharey=True)\n",
    "axvec = axmat.flatten()\n",
    "fittedfile =testpath.joinpath('Fitted','fitteddata.h5')\n",
    "fitiono = IonoContainer.readh5(str(fittedfile))\n",
    "paramlist = ['Ne','Te','Ti']\n",
    "indlist =[sp.argwhere(ip==fitiono.Param_Names)[0][0] for ip in paramlist]\n",
    "n_indlist =[sp.argwhere(('n'+ip)==fitiono.Param_Names)[0][0] for ip in paramlist]\n",
    "\n",
    "\n",
    "Tmat_in, Amat_in =sp.meshgrid(timevec,z)\n",
    "altin =Icont1.Cart_Coords[:,2]\n",
    "tout=fitiono.Time_Vector[:,0]\n",
    "altfit = fitiono.Cart_Coords[:,2]\n",
    "\n",
    "Tmat_out, Amat_out =sp.meshgrid(tout,altfit)\n",
    "\n",
    "in_ind=[[1,0],[1,1],[0,1]]\n",
    "pbounds = [[1e10,2e11],[200.,3000.],[200.,2500.],[-100.,100.]]\n",
    "for i in range(len(paramlist)):\n",
    "    iax=axmat[0,i]\n",
    "    iaxo=axmat[1,i]\n",
    "    iinind = in_ind[i]\n",
    "    ifitind = indlist[i]\n",
    "    #plot input\n",
    "    curin = Icont1.Param_List[:,:,iinind[0],iinind[1]]\n",
    "    image_in = iax.pcolor(Tmat_in,Amat_in,curin,cmap='viridis',vmin=pbounds[i][0],vmax=pbounds[i][1])\n",
    "    iax.set_xlabel(\"Time in s\")\n",
    "    iax.set_ylabel('Alt km')\n",
    "    iax.set_title('Input ' +paramlist[i])\n",
    "    #plot fitted data\n",
    "    fitdata = fitiono.Param_List[:,:,ifitind].real\n",
    "    image_out = iaxo.pcolor(Tmat_out,Amat_out,fitdata,cmap='viridis',vmin=pbounds[i][0],vmax=pbounds[i][1])\n",
    "    iaxo.set_xlabel(\"Time in s\")\n",
    "    iaxo.set_ylabel('Alt km')\n",
    "    iaxo.set_title('Output ' +paramlist[i])\n",
    "    plt.tight_layout()"
   ]
  },
  {
   "cell_type": "code",
   "execution_count": null,
   "metadata": {
    "collapsed": true
   },
   "outputs": [],
   "source": []
  }
 ],
 "metadata": {
  "anaconda-cloud": {},
  "kernelspec": {
   "display_name": "Python 2",
   "language": "python",
   "name": "python2"
  },
  "language_info": {
   "codemirror_mode": {
    "name": "ipython",
    "version": 2
   },
   "file_extension": ".py",
   "mimetype": "text/x-python",
   "name": "python",
   "nbconvert_exporter": "python",
   "pygments_lexer": "ipython2",
   "version": "2.7.13"
  }
 },
 "nbformat": 4,
 "nbformat_minor": 1
}
